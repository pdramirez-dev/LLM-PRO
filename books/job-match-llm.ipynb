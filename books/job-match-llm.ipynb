{
 "cells": [
  {
   "cell_type": "code",
   "execution_count": null,
   "metadata": {},
   "outputs": [],
   "source": [
    "# imports \n",
    "\n",
    "from dotenv import load_dotenv\n",
    "from langchain.agents import AgentType,initialize_agent,load_tools\n",
    "from langchain_google_genai import GoogleGenerativeAI\n",
    "\n",
    "load_dotenv()\n"
   ]
  },
  {
   "cell_type": "code",
   "execution_count": null,
   "metadata": {},
   "outputs": [],
   "source": [
    "model = GoogleGenerativeAI(model=\"gemini-pro\")\n",
    "tool = load_tools([\"google-jobs\"], llm = model)\n",
    "agent = initialize_agent(\n",
    "    tool,model, agent= AgentType.ZERO_SHOT_REACT_DESCRIPTION, verbose = True\n",
    ")\n",
    "\n",
    "agent.run(\"Give me 10  job remote position related to Machine Learning in  Tampa Florida \")"
   ]
  }
 ],
 "metadata": {
  "kernelspec": {
   "display_name": "dev-env",
   "language": "python",
   "name": "python3"
  },
  "language_info": {
   "codemirror_mode": {
    "name": "ipython",
    "version": 3
   },
   "file_extension": ".py",
   "mimetype": "text/x-python",
   "name": "python",
   "nbconvert_exporter": "python",
   "pygments_lexer": "ipython3",
   "version": "3.11.9"
  }
 },
 "nbformat": 4,
 "nbformat_minor": 2
}
